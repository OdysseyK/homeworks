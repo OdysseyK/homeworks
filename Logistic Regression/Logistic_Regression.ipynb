{
 "cells": [
  {
   "cell_type": "markdown",
   "metadata": {},
   "source": [
    "# Logistic Regression"
   ]
  },
  {
   "cell_type": "code",
   "execution_count": 1,
   "metadata": {},
   "outputs": [],
   "source": [
    "from sklearn.datasets import load_iris\n",
    "from sklearn.linear_model import LogisticRegression\n",
    "X, y = load_iris(return_X_y=True)"
   ]
  },
  {
   "cell_type": "code",
   "execution_count": 2,
   "metadata": {},
   "outputs": [
    {
     "data": {
      "text/plain": [
       "array([0, 0, 0, 0, 0, 0, 0, 0, 0, 0, 0, 0, 0, 0, 0, 0, 0, 0, 0, 0, 0, 0,\n",
       "       0, 0, 0, 0, 0, 0, 0, 0, 0, 0, 0, 0, 0, 0, 0, 0, 0, 0, 0, 0, 0, 0,\n",
       "       0, 0, 0, 0, 0, 0, 1, 1, 1, 1, 1, 1, 1, 1, 1, 1, 1, 1, 1, 1, 1, 1,\n",
       "       1, 1, 1, 1, 1, 1, 1, 1, 1, 1, 1, 1, 1, 1, 1, 1, 1, 1, 1, 1, 1, 1,\n",
       "       1, 1, 1, 1, 1, 1, 1, 1, 1, 1, 1, 1, 2, 2, 2, 2, 2, 2, 2, 2, 2, 2,\n",
       "       2, 2, 2, 2, 2, 2, 2, 2, 2, 2, 2, 2, 2, 2, 2, 2, 2, 2, 2, 2, 2, 2,\n",
       "       2, 2, 2, 2, 2, 2, 2, 2, 2, 2, 2, 2, 2, 2, 2, 2, 2, 2])"
      ]
     },
     "execution_count": 2,
     "metadata": {},
     "output_type": "execute_result"
    }
   ],
   "source": [
    "y"
   ]
  },
  {
   "cell_type": "code",
   "execution_count": 3,
   "metadata": {},
   "outputs": [
    {
     "data": {
      "text/html": [
       "<div>\n",
       "<style scoped>\n",
       "    .dataframe tbody tr th:only-of-type {\n",
       "        vertical-align: middle;\n",
       "    }\n",
       "\n",
       "    .dataframe tbody tr th {\n",
       "        vertical-align: top;\n",
       "    }\n",
       "\n",
       "    .dataframe thead th {\n",
       "        text-align: right;\n",
       "    }\n",
       "</style>\n",
       "<table border=\"1\" class=\"dataframe\">\n",
       "  <thead>\n",
       "    <tr style=\"text-align: right;\">\n",
       "      <th></th>\n",
       "      <th>0</th>\n",
       "      <th>1</th>\n",
       "      <th>2</th>\n",
       "      <th>3</th>\n",
       "    </tr>\n",
       "  </thead>\n",
       "  <tbody>\n",
       "    <tr>\n",
       "      <th>count</th>\n",
       "      <td>150.000000</td>\n",
       "      <td>150.000000</td>\n",
       "      <td>150.000000</td>\n",
       "      <td>150.000000</td>\n",
       "    </tr>\n",
       "    <tr>\n",
       "      <th>mean</th>\n",
       "      <td>5.843333</td>\n",
       "      <td>3.057333</td>\n",
       "      <td>3.758000</td>\n",
       "      <td>1.199333</td>\n",
       "    </tr>\n",
       "    <tr>\n",
       "      <th>std</th>\n",
       "      <td>0.828066</td>\n",
       "      <td>0.435866</td>\n",
       "      <td>1.765298</td>\n",
       "      <td>0.762238</td>\n",
       "    </tr>\n",
       "    <tr>\n",
       "      <th>min</th>\n",
       "      <td>4.300000</td>\n",
       "      <td>2.000000</td>\n",
       "      <td>1.000000</td>\n",
       "      <td>0.100000</td>\n",
       "    </tr>\n",
       "    <tr>\n",
       "      <th>25%</th>\n",
       "      <td>5.100000</td>\n",
       "      <td>2.800000</td>\n",
       "      <td>1.600000</td>\n",
       "      <td>0.300000</td>\n",
       "    </tr>\n",
       "    <tr>\n",
       "      <th>50%</th>\n",
       "      <td>5.800000</td>\n",
       "      <td>3.000000</td>\n",
       "      <td>4.350000</td>\n",
       "      <td>1.300000</td>\n",
       "    </tr>\n",
       "    <tr>\n",
       "      <th>75%</th>\n",
       "      <td>6.400000</td>\n",
       "      <td>3.300000</td>\n",
       "      <td>5.100000</td>\n",
       "      <td>1.800000</td>\n",
       "    </tr>\n",
       "    <tr>\n",
       "      <th>max</th>\n",
       "      <td>7.900000</td>\n",
       "      <td>4.400000</td>\n",
       "      <td>6.900000</td>\n",
       "      <td>2.500000</td>\n",
       "    </tr>\n",
       "  </tbody>\n",
       "</table>\n",
       "</div>"
      ],
      "text/plain": [
       "                0           1           2           3\n",
       "count  150.000000  150.000000  150.000000  150.000000\n",
       "mean     5.843333    3.057333    3.758000    1.199333\n",
       "std      0.828066    0.435866    1.765298    0.762238\n",
       "min      4.300000    2.000000    1.000000    0.100000\n",
       "25%      5.100000    2.800000    1.600000    0.300000\n",
       "50%      5.800000    3.000000    4.350000    1.300000\n",
       "75%      6.400000    3.300000    5.100000    1.800000\n",
       "max      7.900000    4.400000    6.900000    2.500000"
      ]
     },
     "execution_count": 3,
     "metadata": {},
     "output_type": "execute_result"
    }
   ],
   "source": [
    "import pandas as pd\n",
    "pd.DataFrame(X).describe()"
   ]
  },
  {
   "cell_type": "code",
   "execution_count": 4,
   "metadata": {},
   "outputs": [],
   "source": [
    "from sklearn.model_selection import train_test_split\n",
    "X_train, X_test, y_train, y_test = train_test_split(X, y, test_size = 0.25, random_state = 0)"
   ]
  },
  {
   "cell_type": "code",
   "execution_count": 5,
   "metadata": {},
   "outputs": [
    {
     "data": {
      "text/plain": [
       "((112, 4), (38, 4))"
      ]
     },
     "execution_count": 5,
     "metadata": {},
     "output_type": "execute_result"
    }
   ],
   "source": [
    "X_train.shape, X_test.shape"
   ]
  },
  {
   "cell_type": "code",
   "execution_count": 6,
   "metadata": {},
   "outputs": [],
   "source": [
    "from sklearn.preprocessing import StandardScaler\n",
    "sc = StandardScaler()\n",
    "X_train = sc.fit_transform(X_train)\n",
    "X_test = sc.transform(X_test)"
   ]
  },
  {
   "cell_type": "code",
   "execution_count": 7,
   "metadata": {},
   "outputs": [
    {
     "data": {
      "text/plain": [
       "LogisticRegression(random_state=0)"
      ]
     },
     "execution_count": 7,
     "metadata": {},
     "output_type": "execute_result"
    }
   ],
   "source": [
    "from sklearn.linear_model import LogisticRegression\n",
    "classifier = LogisticRegression(random_state = 0, solver='lbfgs', multi_class='auto')\n",
    "classifier.fit(X_train, y_train)"
   ]
  },
  {
   "cell_type": "code",
   "execution_count": 8,
   "metadata": {},
   "outputs": [],
   "source": [
    "y_pred = classifier.predict(X_test)"
   ]
  },
  {
   "cell_type": "code",
   "execution_count": 9,
   "metadata": {},
   "outputs": [
    {
     "data": {
      "text/plain": [
       "array([2, 1, 0, 2, 0, 2, 0, 1, 1, 1, 2, 1, 1, 1, 1, 0, 1, 1, 0, 0, 2, 1,\n",
       "       0, 0, 2, 0, 0, 1, 1, 0, 2, 1, 0, 2, 2, 1, 0, 2])"
      ]
     },
     "execution_count": 9,
     "metadata": {},
     "output_type": "execute_result"
    }
   ],
   "source": [
    "y_pred"
   ]
  },
  {
   "cell_type": "code",
   "execution_count": 10,
   "metadata": {},
   "outputs": [],
   "source": [
    "probs_y=classifier.predict_proba(X_test)\n",
    "probs_y;"
   ]
  },
  {
   "cell_type": "code",
   "execution_count": 11,
   "metadata": {},
   "outputs": [],
   "source": [
    "import numpy as np\n",
    "probs_y = np.round(probs_y, 2)\n",
    "probs_y;"
   ]
  },
  {
   "cell_type": "code",
   "execution_count": 12,
   "metadata": {},
   "outputs": [
    {
     "name": "stdout",
     "output_type": "stream",
     "text": [
      "y_test     | y_pred     | Setosa(%)  | versicolor(%) | virginica(%)\n",
      "-----------------------------------------------------------------\n",
      "2          | 2          | 0.0        | 0.03          | 0.97      \n",
      "1          | 1          | 0.01       | 0.95          | 0.04      \n",
      "0          | 0          | 1.0        | 0.0           | 0.0       \n",
      "2          | 2          | 0.0        | 0.08          | 0.92      \n",
      "0          | 0          | 0.98       | 0.02          | 0.0       \n",
      "2          | 2          | 0.0        | 0.01          | 0.99      \n",
      "0          | 0          | 0.98       | 0.02          | 0.0       \n",
      "1          | 1          | 0.01       | 0.71          | 0.28      \n",
      "1          | 1          | 0.0        | 0.73          | 0.27      \n",
      "1          | 1          | 0.02       | 0.89          | 0.08      \n",
      "2          | 2          | 0.0        | 0.44          | 0.56      \n",
      "1          | 1          | 0.02       | 0.76          | 0.22      \n",
      "1          | 1          | 0.01       | 0.85          | 0.13      \n",
      "1          | 1          | 0.0        | 0.69          | 0.3       \n",
      "1          | 1          | 0.01       | 0.75          | 0.24      \n",
      "0          | 0          | 0.99       | 0.01          | 0.0       \n",
      "1          | 1          | 0.02       | 0.72          | 0.26      \n",
      "1          | 1          | 0.03       | 0.86          | 0.11      \n",
      "0          | 0          | 0.94       | 0.06          | 0.0       \n",
      "0          | 0          | 0.99       | 0.01          | 0.0       \n",
      "2          | 2          | 0.0        | 0.17          | 0.83      \n",
      "1          | 1          | 0.04       | 0.71          | 0.25      \n",
      "0          | 0          | 0.98       | 0.02          | 0.0       \n",
      "0          | 0          | 0.96       | 0.04          | 0.0       \n",
      "2          | 2          | 0.0        | 0.35          | 0.65      \n",
      "0          | 0          | 1.0        | 0.0           | 0.0       \n",
      "0          | 0          | 0.99       | 0.01          | 0.0       \n",
      "1          | 1          | 0.02       | 0.87          | 0.11      \n",
      "1          | 1          | 0.09       | 0.9           | 0.02      \n",
      "0          | 0          | 0.97       | 0.03          | 0.0       \n",
      "2          | 2          | 0.0        | 0.21          | 0.79      \n",
      "1          | 1          | 0.06       | 0.69          | 0.25      \n",
      "0          | 0          | 0.98       | 0.02          | 0.0       \n",
      "2          | 2          | 0.0        | 0.35          | 0.65      \n",
      "2          | 2          | 0.0        | 0.04          | 0.96      \n",
      "1          | 1          | 0.07       | 0.81          | 0.11      \n",
      "0          | 0          | 0.97       | 0.03          | 0.0       \n",
      "1          | 2          | 0.0        | 0.42          | 0.58      \n",
      "-----------------------------------------------------------------\n",
      "\n"
     ]
    }
   ],
   "source": [
    "import numpy as np\n",
    "probs_y = np.round(probs_y, 2)\n",
    "res = \"{:<10} | {:<10} | {:<10} | {:<13} | {:<5}\".format(\"y_test\",\n",
    "                                                         \"y_pred\", \n",
    "                                                         \"Setosa(%)\",\n",
    "                                                         \"versicolor(%)\",\n",
    "                                                         \"virginica(%)\\n\")\n",
    "res += \"-\"*65+\"\\n\"\n",
    "res += \"\\n\".join(\"{:<10} | {:<10} | {:<10} | {:<13} | {:<10}\".format(x, y, a, b, c) \n",
    "                 for x, y, a, b, c in zip(y_test, y_pred, probs_y[:,0], probs_y[:,1], probs_y[:,2]))\n",
    "res += \"\\n\"+\"-\"*65+\"\\n\"\n",
    "print(res)"
   ]
  },
  {
   "cell_type": "code",
   "execution_count": 13,
   "metadata": {},
   "outputs": [
    {
     "data": {
      "text/plain": [
       "0.9736842105263158"
      ]
     },
     "execution_count": 13,
     "metadata": {},
     "output_type": "execute_result"
    }
   ],
   "source": [
    "classifier.score(X_test, y_test)"
   ]
  },
  {
   "cell_type": "markdown",
   "metadata": {},
   "source": [
    "# Confusion Matrix"
   ]
  },
  {
   "cell_type": "code",
   "execution_count": 14,
   "metadata": {},
   "outputs": [],
   "source": [
    "from sklearn.metrics import confusion_matrix"
   ]
  },
  {
   "cell_type": "code",
   "execution_count": 15,
   "metadata": {},
   "outputs": [
    {
     "name": "stdout",
     "output_type": "stream",
     "text": [
      "[[13  0  0]\n",
      " [ 0 15  1]\n",
      " [ 0  0  9]]\n"
     ]
    }
   ],
   "source": [
    "from sklearn.metrics import confusion_matrix\n",
    "cm = confusion_matrix(y_test, y_pred)\n",
    "print(cm)"
   ]
  },
  {
   "cell_type": "code",
   "execution_count": 16,
   "metadata": {},
   "outputs": [
    {
     "data": {
      "text/plain": [
       "array([[1.    , 0.    , 0.    ],\n",
       "       [0.    , 0.9375, 0.0625],\n",
       "       [0.    , 0.    , 1.    ]])"
      ]
     },
     "execution_count": 16,
     "metadata": {},
     "output_type": "execute_result"
    }
   ],
   "source": [
    "df_cm = confusion_matrix(y_test, y_pred, normalize=\"true\")\n",
    "df_cm"
   ]
  },
  {
   "cell_type": "code",
   "execution_count": 17,
   "metadata": {},
   "outputs": [
    {
     "data": {
      "image/png": "[encoded data removed]",
      "text/plain": [
       "<Figure size 432x288 with 2 Axes>"
      ]
     },
     "metadata": {
      "needs_background": "light"
     },
     "output_type": "display_data"
    }
   ],
   "source": [
    "# Plot confusion matrix\n",
    "import seaborn as sns\n",
    "import pandas as pd\n",
    "import matplotlib.pyplot as plt\n",
    "# confusion matrix sns heatmap \n",
    "ax = plt.axes()\n",
    "df_cm = (confusion_matrix(y_test, y_pred, normalize=\"true\")*100).astype(int)\n",
    "\n",
    "sns.heatmap(df_cm, annot=True, annot_kws={\"size\": 30}, fmt='d',cmap=\"Blues\", ax = ax )\n",
    "ax.set_title('Confusion Matrix')\n",
    "plt.show()\n"
   ]
  },
  {
   "cell_type": "markdown",
   "metadata": {},
   "source": [
    "# 1. Solve classification problem using 'classification.csv' dataset"
   ]
  },
  {
   "cell_type": "code",
   "execution_count": 18,
   "metadata": {},
   "outputs": [],
   "source": [
    "# # example of updating one weight\n",
    "# epochs = 50\n",
    "# lr = 0.1\n",
    "# for _ in range(epochs):\n",
    "#     w1 -= lr * x1 * (y_hat - y) # y_hat is predicted value"
   ]
  },
  {
   "cell_type": "code",
   "execution_count": 19,
   "metadata": {
    "scrolled": true
   },
   "outputs": [
    {
     "data": {
      "text/html": [
       "<div>\n",
       "<style scoped>\n",
       "    .dataframe tbody tr th:only-of-type {\n",
       "        vertical-align: middle;\n",
       "    }\n",
       "\n",
       "    .dataframe tbody tr th {\n",
       "        vertical-align: top;\n",
       "    }\n",
       "\n",
       "    .dataframe thead th {\n",
       "        text-align: right;\n",
       "    }\n",
       "</style>\n",
       "<table border=\"1\" class=\"dataframe\">\n",
       "  <thead>\n",
       "    <tr style=\"text-align: right;\">\n",
       "      <th></th>\n",
       "      <th>age</th>\n",
       "      <th>ed</th>\n",
       "      <th>employ</th>\n",
       "      <th>address</th>\n",
       "      <th>income</th>\n",
       "      <th>debtinc</th>\n",
       "      <th>creddebt</th>\n",
       "      <th>othdebt</th>\n",
       "      <th>default</th>\n",
       "    </tr>\n",
       "  </thead>\n",
       "  <tbody>\n",
       "    <tr>\n",
       "      <th>0</th>\n",
       "      <td>41</td>\n",
       "      <td>college degree</td>\n",
       "      <td>17</td>\n",
       "      <td>12</td>\n",
       "      <td>176</td>\n",
       "      <td>9.3</td>\n",
       "      <td>11.359392</td>\n",
       "      <td>5.008608</td>\n",
       "      <td>1</td>\n",
       "    </tr>\n",
       "    <tr>\n",
       "      <th>1</th>\n",
       "      <td>27</td>\n",
       "      <td>no high school</td>\n",
       "      <td>10</td>\n",
       "      <td>6</td>\n",
       "      <td>31</td>\n",
       "      <td>17.3</td>\n",
       "      <td>1.362202</td>\n",
       "      <td>4.000798</td>\n",
       "      <td>0</td>\n",
       "    </tr>\n",
       "    <tr>\n",
       "      <th>2</th>\n",
       "      <td>40</td>\n",
       "      <td>no high school</td>\n",
       "      <td>15</td>\n",
       "      <td>14</td>\n",
       "      <td>55</td>\n",
       "      <td>5.5</td>\n",
       "      <td>0.856075</td>\n",
       "      <td>2.168925</td>\n",
       "      <td>0</td>\n",
       "    </tr>\n",
       "    <tr>\n",
       "      <th>3</th>\n",
       "      <td>41</td>\n",
       "      <td>no high school</td>\n",
       "      <td>15</td>\n",
       "      <td>14</td>\n",
       "      <td>120</td>\n",
       "      <td>2.9</td>\n",
       "      <td>2.658720</td>\n",
       "      <td>0.821280</td>\n",
       "      <td>0</td>\n",
       "    </tr>\n",
       "    <tr>\n",
       "      <th>4</th>\n",
       "      <td>24</td>\n",
       "      <td>high school</td>\n",
       "      <td>2</td>\n",
       "      <td>0</td>\n",
       "      <td>28</td>\n",
       "      <td>17.3</td>\n",
       "      <td>1.787436</td>\n",
       "      <td>3.056564</td>\n",
       "      <td>1</td>\n",
       "    </tr>\n",
       "  </tbody>\n",
       "</table>\n",
       "</div>"
      ],
      "text/plain": [
       "   age              ed  employ  address  income  debtinc   creddebt   othdebt  \\\n",
       "0   41  college degree      17       12     176      9.3  11.359392  5.008608   \n",
       "1   27  no high school      10        6      31     17.3   1.362202  4.000798   \n",
       "2   40  no high school      15       14      55      5.5   0.856075  2.168925   \n",
       "3   41  no high school      15       14     120      2.9   2.658720  0.821280   \n",
       "4   24     high school       2        0      28     17.3   1.787436  3.056564   \n",
       "\n",
       "   default  \n",
       "0        1  \n",
       "1        0  \n",
       "2        0  \n",
       "3        0  \n",
       "4        1  "
      ]
     },
     "execution_count": 19,
     "metadata": {},
     "output_type": "execute_result"
    }
   ],
   "source": [
    "import pandas as pd\n",
    "default = pd.read_csv('classification.csv')\n",
    "default.head(5)"
   ]
  },
  {
   "cell_type": "code",
   "execution_count": 20,
   "metadata": {},
   "outputs": [
    {
     "data": {
      "text/html": [
       "<div>\n",
       "<style scoped>\n",
       "    .dataframe tbody tr th:only-of-type {\n",
       "        vertical-align: middle;\n",
       "    }\n",
       "\n",
       "    .dataframe tbody tr th {\n",
       "        vertical-align: top;\n",
       "    }\n",
       "\n",
       "    .dataframe thead th {\n",
       "        text-align: right;\n",
       "    }\n",
       "</style>\n",
       "<table border=\"1\" class=\"dataframe\">\n",
       "  <thead>\n",
       "    <tr style=\"text-align: right;\">\n",
       "      <th></th>\n",
       "      <th>0</th>\n",
       "      <th>1</th>\n",
       "      <th>2</th>\n",
       "      <th>3</th>\n",
       "    </tr>\n",
       "  </thead>\n",
       "  <tbody>\n",
       "    <tr>\n",
       "      <th>0</th>\n",
       "      <td>0.015440</td>\n",
       "      <td>-0.119255</td>\n",
       "      <td>0.225127</td>\n",
       "      <td>0.355798</td>\n",
       "    </tr>\n",
       "    <tr>\n",
       "      <th>1</th>\n",
       "      <td>-0.099845</td>\n",
       "      <td>-1.040395</td>\n",
       "      <td>0.113560</td>\n",
       "      <td>-0.029841</td>\n",
       "    </tr>\n",
       "    <tr>\n",
       "      <th>2</th>\n",
       "      <td>1.053005</td>\n",
       "      <td>-0.119255</td>\n",
       "      <td>0.950314</td>\n",
       "      <td>1.127075</td>\n",
       "    </tr>\n",
       "    <tr>\n",
       "      <th>3</th>\n",
       "      <td>-1.367980</td>\n",
       "      <td>0.341315</td>\n",
       "      <td>-1.392599</td>\n",
       "      <td>-1.315303</td>\n",
       "    </tr>\n",
       "    <tr>\n",
       "      <th>4</th>\n",
       "      <td>1.168290</td>\n",
       "      <td>0.111030</td>\n",
       "      <td>0.727180</td>\n",
       "      <td>1.384168</td>\n",
       "    </tr>\n",
       "    <tr>\n",
       "      <th>...</th>\n",
       "      <td>...</td>\n",
       "      <td>...</td>\n",
       "      <td>...</td>\n",
       "      <td>...</td>\n",
       "    </tr>\n",
       "    <tr>\n",
       "      <th>107</th>\n",
       "      <td>-1.137410</td>\n",
       "      <td>0.111030</td>\n",
       "      <td>-1.281032</td>\n",
       "      <td>-1.443850</td>\n",
       "    </tr>\n",
       "    <tr>\n",
       "      <th>108</th>\n",
       "      <td>0.476580</td>\n",
       "      <td>-0.349540</td>\n",
       "      <td>1.006098</td>\n",
       "      <td>0.741436</td>\n",
       "    </tr>\n",
       "    <tr>\n",
       "      <th>109</th>\n",
       "      <td>-0.099845</td>\n",
       "      <td>-0.810110</td>\n",
       "      <td>0.169343</td>\n",
       "      <td>-0.286934</td>\n",
       "    </tr>\n",
       "    <tr>\n",
       "      <th>110</th>\n",
       "      <td>2.090570</td>\n",
       "      <td>1.723026</td>\n",
       "      <td>1.619718</td>\n",
       "      <td>1.255621</td>\n",
       "    </tr>\n",
       "    <tr>\n",
       "      <th>111</th>\n",
       "      <td>-1.483265</td>\n",
       "      <td>0.341315</td>\n",
       "      <td>-1.336815</td>\n",
       "      <td>-1.315303</td>\n",
       "    </tr>\n",
       "  </tbody>\n",
       "</table>\n",
       "<p>112 rows × 4 columns</p>\n",
       "</div>"
      ],
      "text/plain": [
       "            0         1         2         3\n",
       "0    0.015440 -0.119255  0.225127  0.355798\n",
       "1   -0.099845 -1.040395  0.113560 -0.029841\n",
       "2    1.053005 -0.119255  0.950314  1.127075\n",
       "3   -1.367980  0.341315 -1.392599 -1.315303\n",
       "4    1.168290  0.111030  0.727180  1.384168\n",
       "..        ...       ...       ...       ...\n",
       "107 -1.137410  0.111030 -1.281032 -1.443850\n",
       "108  0.476580 -0.349540  1.006098  0.741436\n",
       "109 -0.099845 -0.810110  0.169343 -0.286934\n",
       "110  2.090570  1.723026  1.619718  1.255621\n",
       "111 -1.483265  0.341315 -1.336815 -1.315303\n",
       "\n",
       "[112 rows x 4 columns]"
      ]
     },
     "execution_count": 20,
     "metadata": {},
     "output_type": "execute_result"
    }
   ],
   "source": [
    "pd.DataFrame(X_train)"
   ]
  },
  {
   "cell_type": "markdown",
   "metadata": {},
   "source": [
    "## Implement gradient descent on logistic regression"
   ]
  },
  {
   "cell_type": "code",
   "execution_count": 21,
   "metadata": {},
   "outputs": [],
   "source": [
    "import numpy as np\n",
    "# binary\n",
    "class Logistic_regression:\n",
    "    \n",
    "    def __init__(self, X, Y):\n",
    "        self.X, self.Y, self.beta = X, Y, np.zeros((X.shape[1]+1, 1))\n",
    "    \n",
    "    def cost_function(self, beta):\n",
    "        y = self.Y\n",
    "        return sum([-y[i] * np.log(beta[i])-(1-y[i])*np.log(1-beta[i]) for i in range(self.Y.shape[0])]).mean()\n",
    "    \n",
    "    \n",
    "    def fit(self, max_steps=5000, step_size=0.00005, epsilon=0.05):\n",
    "        self.Y = np.array(self.Y).reshape(-1, 1)\n",
    "        tmp_x = np.hstack([np.ones((self.X.shape[0], 1)), self.X])\n",
    "        for i in range(max_steps):\n",
    "            sigm = self.sigmoid(tmp_x)\n",
    "            d_w = epsilon*(tmp_x.T @ (sigm-self.Y)) / self.Y.shape[0]\n",
    "            self.beta -= step_size*d_w\n",
    "        \n",
    "    def predict(self, X):\n",
    "        tmp_x = np.hstack([np.ones((X.shape[0], 1)), X])\n",
    "        sigm = self.sigmoid(tmp_x, False)\n",
    "        ans = (sigm >= 0.5).flatten()\n",
    "        return [(1 if ans[i] else 0) for i in range(len(ans))]\n",
    "    \n",
    "    def sigmoid(self, X ,f=False):\n",
    "        if f:\n",
    "            print(X@self.beta)\n",
    "        return 1/(1+np.exp(-(X@self.beta)))"
   ]
  },
  {
   "cell_type": "markdown",
   "metadata": {},
   "source": [
    "#### visualise the date, do some EDA, find feature importance"
   ]
  },
  {
   "cell_type": "code",
   "execution_count": 23,
   "metadata": {},
   "outputs": [
    {
     "data": {
      "image/png": "[encoded data removed]",
      "text/plain": [
       "<Figure size 432x288 with 1 Axes>"
      ]
     },
     "metadata": {
      "needs_background": "light"
     },
     "output_type": "display_data"
    },
    {
     "data": {
      "image/png": "[encoded data removed]",
      "text/plain": [
       "<Figure size 432x288 with 1 Axes>"
      ]
     },
     "metadata": {
      "needs_background": "light"
     },
     "output_type": "display_data"
    },
    {
     "data": {
      "image/png": "[encoded data removed]",
      "text/plain": [
       "<Figure size 432x288 with 1 Axes>"
      ]
     },
     "metadata": {
      "needs_background": "light"
     },
     "output_type": "display_data"
    },
    {
     "data": {
      "image/png": "[encoded data removed]",
      "text/plain": [
       "<Figure size 432x288 with 1 Axes>"
      ]
     },
     "metadata": {
      "needs_background": "light"
     },
     "output_type": "display_data"
    },
    {
     "data": {
      "image/png": "[encoded data removed]",
      "text/plain": [
       "<Figure size 432x288 with 1 Axes>"
      ]
     },
     "metadata": {
      "needs_background": "light"
     },
     "output_type": "display_data"
    },
    {
     "data": {
      "image/png": "[encoded data removed]",
      "text/plain": [
       "<Figure size 432x288 with 1 Axes>"
      ]
     },
     "metadata": {
      "needs_background": "light"
     },
     "output_type": "display_data"
    },
    {
     "data": {
      "image/png": "[encoded data removed]",
      "text/plain": [
       "<Figure size 432x288 with 1 Axes>"
      ]
     },
     "metadata": {
      "needs_background": "light"
     },
     "output_type": "display_data"
    }
   ],
   "source": [
    "for feature in default.columns.difference(['default', 'ed']):\n",
    "    plt.xlabel(feature)\n",
    "    plt.ylabel('default')\n",
    "    plt.scatter(default[feature], default.default)\n",
    "    plt.show()"
   ]
  },
  {
   "cell_type": "code",
   "execution_count": 24,
   "metadata": {},
   "outputs": [
    {
     "data": {
      "text/html": [
       "<div>\n",
       "<style scoped>\n",
       "    .dataframe tbody tr th:only-of-type {\n",
       "        vertical-align: middle;\n",
       "    }\n",
       "\n",
       "    .dataframe tbody tr th {\n",
       "        vertical-align: top;\n",
       "    }\n",
       "\n",
       "    .dataframe thead th {\n",
       "        text-align: right;\n",
       "    }\n",
       "</style>\n",
       "<table border=\"1\" class=\"dataframe\">\n",
       "  <thead>\n",
       "    <tr style=\"text-align: right;\">\n",
       "      <th></th>\n",
       "      <th>age</th>\n",
       "      <th>employ</th>\n",
       "      <th>address</th>\n",
       "      <th>income</th>\n",
       "      <th>debtinc</th>\n",
       "      <th>creddebt</th>\n",
       "      <th>othdebt</th>\n",
       "      <th>default</th>\n",
       "    </tr>\n",
       "  </thead>\n",
       "  <tbody>\n",
       "    <tr>\n",
       "      <th>age</th>\n",
       "      <td>1.000000</td>\n",
       "      <td>0.536497</td>\n",
       "      <td>0.597591</td>\n",
       "      <td>0.478710</td>\n",
       "      <td>0.016398</td>\n",
       "      <td>0.295207</td>\n",
       "      <td>0.340217</td>\n",
       "      <td>-0.137657</td>\n",
       "    </tr>\n",
       "    <tr>\n",
       "      <th>employ</th>\n",
       "      <td>0.536497</td>\n",
       "      <td>1.000000</td>\n",
       "      <td>0.322334</td>\n",
       "      <td>0.619681</td>\n",
       "      <td>-0.031182</td>\n",
       "      <td>0.403694</td>\n",
       "      <td>0.406091</td>\n",
       "      <td>-0.282978</td>\n",
       "    </tr>\n",
       "    <tr>\n",
       "      <th>address</th>\n",
       "      <td>0.597591</td>\n",
       "      <td>0.322334</td>\n",
       "      <td>1.000000</td>\n",
       "      <td>0.316245</td>\n",
       "      <td>0.011323</td>\n",
       "      <td>0.208435</td>\n",
       "      <td>0.226514</td>\n",
       "      <td>-0.164451</td>\n",
       "    </tr>\n",
       "    <tr>\n",
       "      <th>income</th>\n",
       "      <td>0.478710</td>\n",
       "      <td>0.619681</td>\n",
       "      <td>0.316245</td>\n",
       "      <td>1.000000</td>\n",
       "      <td>-0.026777</td>\n",
       "      <td>0.570199</td>\n",
       "      <td>0.610659</td>\n",
       "      <td>-0.070970</td>\n",
       "    </tr>\n",
       "    <tr>\n",
       "      <th>debtinc</th>\n",
       "      <td>0.016398</td>\n",
       "      <td>-0.031182</td>\n",
       "      <td>0.011323</td>\n",
       "      <td>-0.026777</td>\n",
       "      <td>1.000000</td>\n",
       "      <td>0.501767</td>\n",
       "      <td>0.584870</td>\n",
       "      <td>0.389575</td>\n",
       "    </tr>\n",
       "    <tr>\n",
       "      <th>creddebt</th>\n",
       "      <td>0.295207</td>\n",
       "      <td>0.403694</td>\n",
       "      <td>0.208435</td>\n",
       "      <td>0.570199</td>\n",
       "      <td>0.501767</td>\n",
       "      <td>1.000000</td>\n",
       "      <td>0.633104</td>\n",
       "      <td>0.244740</td>\n",
       "    </tr>\n",
       "    <tr>\n",
       "      <th>othdebt</th>\n",
       "      <td>0.340217</td>\n",
       "      <td>0.406091</td>\n",
       "      <td>0.226514</td>\n",
       "      <td>0.610659</td>\n",
       "      <td>0.584870</td>\n",
       "      <td>0.633104</td>\n",
       "      <td>1.000000</td>\n",
       "      <td>0.145713</td>\n",
       "    </tr>\n",
       "    <tr>\n",
       "      <th>default</th>\n",
       "      <td>-0.137657</td>\n",
       "      <td>-0.282978</td>\n",
       "      <td>-0.164451</td>\n",
       "      <td>-0.070970</td>\n",
       "      <td>0.389575</td>\n",
       "      <td>0.244740</td>\n",
       "      <td>0.145713</td>\n",
       "      <td>1.000000</td>\n",
       "    </tr>\n",
       "  </tbody>\n",
       "</table>\n",
       "</div>"
      ],
      "text/plain": [
       "               age    employ   address    income   debtinc  creddebt  \\\n",
       "age       1.000000  0.536497  0.597591  0.478710  0.016398  0.295207   \n",
       "employ    0.536497  1.000000  0.322334  0.619681 -0.031182  0.403694   \n",
       "address   0.597591  0.322334  1.000000  0.316245  0.011323  0.208435   \n",
       "income    0.478710  0.619681  0.316245  1.000000 -0.026777  0.570199   \n",
       "debtinc   0.016398 -0.031182  0.011323 -0.026777  1.000000  0.501767   \n",
       "creddebt  0.295207  0.403694  0.208435  0.570199  0.501767  1.000000   \n",
       "othdebt   0.340217  0.406091  0.226514  0.610659  0.584870  0.633104   \n",
       "default  -0.137657 -0.282978 -0.164451 -0.070970  0.389575  0.244740   \n",
       "\n",
       "           othdebt   default  \n",
       "age       0.340217 -0.137657  \n",
       "employ    0.406091 -0.282978  \n",
       "address   0.226514 -0.164451  \n",
       "income    0.610659 -0.070970  \n",
       "debtinc   0.584870  0.389575  \n",
       "creddebt  0.633104  0.244740  \n",
       "othdebt   1.000000  0.145713  \n",
       "default   0.145713  1.000000  "
      ]
     },
     "execution_count": 24,
     "metadata": {},
     "output_type": "execute_result"
    }
   ],
   "source": [
    "default.corr()"
   ]
  },
  {
   "cell_type": "markdown",
   "metadata": {},
   "source": [
    "##### target variable is 'default'. Apply feature selection, feature scaling, cross validation etc. (anything you think is needed)"
   ]
  },
  {
   "cell_type": "code",
   "execution_count": 25,
   "metadata": {},
   "outputs": [],
   "source": [
    "default.ed = default.ed.astype('category').cat.codes"
   ]
  },
  {
   "cell_type": "code",
   "execution_count": 26,
   "metadata": {},
   "outputs": [],
   "source": [
    "from sklearn.model_selection import train_test_split\n",
    "X, y = default[default.columns.difference(['default'])], default.default\n",
    "X_train, X_test, y_train, y_test = train_test_split(X, y, test_size=0.2,random_state=2)"
   ]
  },
  {
   "cell_type": "markdown",
   "metadata": {},
   "source": [
    "#### Implement \"confusion_matrix\" and \"f1_score\" functions"
   ]
  },
  {
   "cell_type": "code",
   "execution_count": 28,
   "metadata": {},
   "outputs": [],
   "source": [
    "def confusion_matrix(label, pred):\n",
    "    assert(len(label) == len(pred)), \"label and pred should have the same length\"\n",
    "    tp = len(label[label==1]==pred[pred==1])\n",
    "    fp = len(label[label==1]==pred[pred==1])\n",
    "    tn = len(label[label==0]==pred[pred==0])\n",
    "    fn = len(label[label==1]==pred[pred==0])\n",
    "    matrix = np.array([[tp, fp], [fn, tn]])\n",
    "    return matrix"
   ]
  },
  {
   "cell_type": "code",
   "execution_count": 29,
   "metadata": {},
   "outputs": [],
   "source": [
    "def f1_score(conf_matrix: np.array) -> float:\n",
    "    assert(conf_matrix.shape == (2, 2)), 'conf_matrix shape should be (2, 2)'\n",
    "    p = conf_matrix[0, 0]/(conf_matrix[0, 0]+conf_matrix[0, 1])\n",
    "    r = conf_matrix[0, 0]/(conf_matrix[0, 0]+conf_matrix[1, 0])\n",
    "    return 2*((p*r)/(p+r))"
   ]
  },
  {
   "cell_type": "markdown",
   "metadata": {},
   "source": [
    "## Print accuracy, confusion matrix, precision, recall, sensitivity and specifity on train and test (and maybe validation) datasets."
   ]
  },
  {
   "cell_type": "markdown",
   "metadata": {},
   "source": [
    "#### Do not use any libraries for metrics, implement yourself"
   ]
  },
  {
   "cell_type": "code",
   "execution_count": 35,
   "metadata": {},
   "outputs": [],
   "source": [
    "import numpy as np\n",
    "\n",
    "def accuracy_score(conf_matrix: np.array) -> float:\n",
    "    assert(conf_matrix.shape == (2, 2)), 'conf_matrix shape should be (2, 2)'\n",
    "    if sum(sum(conf_matrix)) == 0:\n",
    "        return conf_matrix.trace / sum(conf_matrix.flatten())\n",
    "    return sum(np.diag(conf_matrix)) / sum(sum(conf_matrix))\n",
    "\n",
    "def precision_score(conf_matrix: np.array) -> float:\n",
    "    assert(conf_matrix.shape == (2, 2)), 'conf_matrix shape should be (2, 2)'\n",
    "    if sum(conf_matrix[:,1]) == 0:\n",
    "        return conf_matrix[0, 0]/(conf_matrix[0, 0]+conf_matrix[0, 1])\n",
    "    return conf_matrix[1, 1] / sum(conf_matrix[:,1])\n",
    "\n",
    "def recall_score(conf_matrix: np.array) -> float:\n",
    "    assert(conf_matrix.shape == (2, 2)), 'conf_matrix shape should be (2, 2)'\n",
    "    if sum(conf_matrix[1,:]) == 0:\n",
    "        return conf_matrix[0, 0]/(conf_matrix[0, 0]+conf_matrix[1, 0])\n",
    "    return conf_matrix[1, 1] / sum(conf_matrix[1,:])\n",
    "\n",
    "sensitivity_score = recall_score\n",
    "\n",
    "def specificity_score(conf_matrix: np.array) -> float:\n",
    "    assert(conf_matrix.shape == (2, 2)), 'conf_matrix shape should be (2, 2)'\n",
    "    if sum(conf_matrix[0,:]) == 0:\n",
    "        return conf_matrix[1, 1]/(conf_matrix[1, 1] + conf_matrix[0, 1])\n",
    "    return conf_matrix[0, 0] / sum(conf_matrix[0,:])"
   ]
  },
  {
   "cell_type": "code",
   "execution_count": 37,
   "metadata": {},
   "outputs": [
    {
     "name": "stdout",
     "output_type": "stream",
     "text": [
      "Train Accuracy: 0.660377358490566\n",
      "Train Precision: 0.7428571428571429\n",
      "Train Recall: 0.7428571428571429\n",
      "Train Sensitivity: 0.7428571428571429\n",
      "Train Specificity: 0.5\n",
      "Train F1 Score: 0.5\n",
      "\n",
      "Test Accuracy: 0.6422018348623854\n",
      "Test Precision: 0.7214285714285714\n",
      "Test Recall: 0.7214285714285714\n",
      "Test Sensitivity: 0.7214285714285714\n",
      "Test Specificity: 0.5\n",
      "Test F1 Score: 0.5\n"
     ]
    }
   ],
   "source": [
    "log_reg = Logistic_regression(X_train, y_train)\n",
    "log_reg.fit(max_steps=10000, step_size=0.0001, epsilon=1e-14)\n",
    "train_pred = log_reg.predict(X_train)\n",
    "train_mat = confusion_matrix(np.array(y_train), train_pred)\n",
    "print(\"Train Accuracy:\", accuracy_score(train_mat))\n",
    "print(\"Train Precision:\", precision_score(conf_matrix=train_mat))\n",
    "print(\"Train Recall:\", recall_score(conf_matrix=train_mat))\n",
    "print(\"Train Sensitivity:\", sensitivity_score(conf_matrix=train_mat))\n",
    "print(\"Train Specificity:\", specificity_score(conf_matrix=train_mat))\n",
    "print(\"Train F1 Score:\", f1_score(conf_matrix=train_mat), end='\\n\\n')\n",
    "test_pred = log_reg.predict(X_test)\n",
    "test_mat = confusion_matrix(np.array(y_test), test_pred)\n",
    "\n",
    "print(\"Test Accuracy:\", accuracy_score(test_mat))\n",
    "print(\"Test Precision:\", precision_score(conf_matrix=test_mat))\n",
    "print(\"Test Recall:\", recall_score(conf_matrix=test_mat))\n",
    "print(\"Test Sensitivity:\", sensitivity_score(conf_matrix=test_mat))\n",
    "print(\"Test Specificity:\", specificity_score(conf_matrix=test_mat))\n",
    "print(\"Test F1 Score:\", f1_score(conf_matrix=test_mat))"
   ]
  }
 ],
 "metadata": {
  "kernelspec": {
   "display_name": "Python 3 (ipykernel)",
   "language": "python",
   "name": "python3"
  },
  "language_info": {
   "codemirror_mode": {
    "name": "ipython",
    "version": 3
   },
   "file_extension": ".py",
   "mimetype": "text/x-python",
   "name": "python",
   "nbconvert_exporter": "python",
   "pygments_lexer": "ipython3",
   "version": "3.8.10"
  }
 },
 "nbformat": 4,
 "nbformat_minor": 4
}
