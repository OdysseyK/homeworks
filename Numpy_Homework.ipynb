{
 "cells": [
  {
   "cell_type": "markdown",
   "metadata": {
    "id": "Fr7YnX1_Fnji"
   },
   "source": [
    "#### 1. Create a 3x5 numpy array filled with random numbers from 1 to 10.\n",
    "\n",
    "#### 1. Ստեղծեք 1-ից 10 պատահական թվերով լցված (3, 5) չափերով numpy array։"
   ]
  },
  {
   "cell_type": "code",
   "execution_count": 2,
   "metadata": {},
   "outputs": [],
   "source": [
    "import numpy as np"
   ]
  },
  {
   "cell_type": "code",
   "execution_count": 4,
   "metadata": {
    "id": "fj6nwlGUFnjp"
   },
   "outputs": [
    {
     "data": {
      "text/plain": [
       "(0.03763973136415821, 0.9468972903949581)"
      ]
     },
     "execution_count": 4,
     "metadata": {},
     "output_type": "execute_result"
    }
   ],
   "source": [
    "a = np.random.rand(3, 5)\n",
    "a.min(), a.max()"
   ]
  },
  {
   "cell_type": "markdown",
   "metadata": {
    "id": "qxPVvIfcFnjq"
   },
   "source": [
    "#### 2. Create a numpy array of size 10 filled with 0s and replace its 5th value with a 3.\n",
    "\n",
    "#### 2. Ստեղծեք 10 չափի 0-ներով լցված numpy array ու փոխարինեք դրա 5-րդ արժեքը 3 թվով։"
   ]
  },
  {
   "cell_type": "code",
   "execution_count": 5,
   "metadata": {
    "id": "fxvsZX6wFnjs"
   },
   "outputs": [
    {
     "data": {
      "text/plain": [
       "array([0., 0., 0., 0., 3., 0., 0., 0., 0., 0.])"
      ]
     },
     "execution_count": 5,
     "metadata": {},
     "output_type": "execute_result"
    }
   ],
   "source": [
    "a = np.zeros(10)\n",
    "a[4]= 3\n",
    "a"
   ]
  },
  {
   "cell_type": "markdown",
   "metadata": {
    "id": "AFICa4dpFnjs"
   },
   "source": [
    "#### 3. Create a numpy array filled with numbers from 3 to 15 i.e. ([3, 4 … 13, 14])\n",
    "\n",
    "#### 3. Ստեղծեք 3-ից 15 թվերից բաղկացած numpy array ([3, 4 … 13, 14])"
   ]
  },
  {
   "cell_type": "code",
   "execution_count": 6,
   "metadata": {
    "id": "54zXQtjCFnjt"
   },
   "outputs": [
    {
     "data": {
      "text/plain": [
       "array([ 3,  4,  5,  6,  7,  8,  9, 10, 11, 12, 13, 14])"
      ]
     },
     "execution_count": 6,
     "metadata": {},
     "output_type": "execute_result"
    }
   ],
   "source": [
    "np.arange(3, 15)"
   ]
  },
  {
   "cell_type": "markdown",
   "metadata": {
    "id": "J9BkWFFRFnjt"
   },
   "source": [
    "#### 4. Reshape a numpy array of size 6x0 [1, 3, 5, 2, 4, 5] into an array of size 3x2 and then 2x3 without changing the original numpy array.  \n",
    "\n",
    "#### 4. Վերածեք 6x0 [1, 3, 5, 2, 4, 5] numpy array-ը սկզբում 3x2 այնուհետև 2x3 numpy array-ների առանց սկզբնական numpy array-ը փոփոխելու։"
   ]
  },
  {
   "cell_type": "code",
   "execution_count": 9,
   "metadata": {
    "id": "mWApB9LQFnju"
   },
   "outputs": [
    {
     "data": {
      "text/plain": [
       "array([[1, 3, 5],\n",
       "       [2, 4, 5]])"
      ]
     },
     "execution_count": 9,
     "metadata": {},
     "output_type": "execute_result"
    }
   ],
   "source": [
    "b = np.array([1, 3, 5, 2, 4, 5])\n",
    "b.reshape(3, -1)\n",
    "b.reshape(2, -1)"
   ]
  },
  {
   "cell_type": "markdown",
   "metadata": {
    "id": "6VC9mXw8Fnjv"
   },
   "source": [
    "#### 5. Write a function which gets a numpy array as an input and divides all of the array values by 2 over and over again, until the mean of the array numbers is <=5. Then, once the mean of the array numbers is <=5, the funtion returns the modified numpy array. \n",
    "\n",
    "#### 5. Գրեք ֆունկցիա, որը ստանում է numpy array ու բաժանում է դրա բոլոր արժեքները 2-ի այնքան ժամանակ մինչև որ դրանց միջին արժեքը լինի <=5։ Այնուհետև, հենց միջին արժեքը դառնում է <=5, ֆունկցիան վերադարձնում է փոփոխված numpy array-ը։"
   ]
  },
  {
   "cell_type": "code",
   "execution_count": 5,
   "metadata": {
    "id": "nWls9SSMFnjw"
   },
   "outputs": [
    {
     "data": {
      "text/plain": [
       "array([ 0.015625,  0.046875,  0.078125,  0.03125 ,  0.0625  , 15.625   ])"
      ]
     },
     "execution_count": 5,
     "metadata": {},
     "output_type": "execute_result"
    }
   ],
   "source": [
    "def mean_array(a):\n",
    "    while np.mean(a) >5:\n",
    "        a = a / 2\n",
    "    return a\n",
    "\n",
    "b = np.array([1, 3, 5, 2, 4, 1000])\n",
    "mean_array(b)"
   ]
  },
  {
   "cell_type": "markdown",
   "metadata": {
    "id": "4_AqxfcRFnjw"
   },
   "source": [
    "#### 6. Write a function which gets a 5x4 numpy array filled with random numbers from 1 to 10 as an input and returns 4 different numpy arrays which are the columns of the original numpy array. Write another similar function which returns 5 different numpy arrays which are rows of the original numpy array. \n",
    "\n",
    "#### 6. Գրեք ֆունկցիա, որը ստանում է 1-ից 10 պատահական թվերով լցված 5x4 numpy array ու վերադարձնում է 4 տարբեր numpy array-ներ, որոնք սկզբնական numpy array-ի սյուներն են։ Գրեք նմանատիպ ֆունկցիա, որը վերադարձնում է 5 տարբեր numpy array-ներ, որոնք սկզբնական numpy array-ի տողերն են։"
   ]
  },
  {
   "cell_type": "code",
   "execution_count": 6,
   "metadata": {
    "id": "QVX5vRKlFnjx"
   },
   "outputs": [
    {
     "name": "stdout",
     "output_type": "stream",
     "text": [
      "[[0.93587699 0.29983692 0.1332861  0.68802803]\n",
      " [0.44966759 0.07653596 0.1153025  0.41038376]\n",
      " [0.06598628 0.46473263 0.19554324 0.15602168]\n",
      " [0.76568718 0.64844119 0.47714135 0.99027427]\n",
      " [0.18648151 0.25646562 0.71588457 0.94498102]]\n",
      "[array([0.93587699, 0.29983692, 0.1332861 , 0.68802803]), array([0.44966759, 0.07653596, 0.1153025 , 0.41038376]), array([0.06598628, 0.46473263, 0.19554324, 0.15602168]), array([0.76568718, 0.64844119, 0.47714135, 0.99027427]), array([0.18648151, 0.25646562, 0.71588457, 0.94498102])]\n"
     ]
    },
    {
     "data": {
      "text/plain": [
       "[array([0.93587699, 0.44966759, 0.06598628, 0.76568718, 0.18648151]),\n",
       " array([0.29983692, 0.07653596, 0.46473263, 0.64844119, 0.25646562]),\n",
       " array([0.1332861 , 0.1153025 , 0.19554324, 0.47714135, 0.71588457]),\n",
       " array([0.68802803, 0.41038376, 0.15602168, 0.99027427, 0.94498102])]"
      ]
     },
     "execution_count": 6,
     "metadata": {},
     "output_type": "execute_result"
    }
   ],
   "source": [
    "def func_rows(a):\n",
    "    return [np.array(i) for i in a]\n",
    "def func_cols(a):\n",
    "    return [np.array(i) for i in np.transpose(a)]\n",
    "mat = np.random.rand(5, 4)\n",
    "print(mat)\n",
    "print(func_rows(mat))\n",
    "func_cols(mat)"
   ]
  },
  {
   "cell_type": "markdown",
   "metadata": {
    "id": "CIOFOYxVFnjy"
   },
   "source": [
    "#### 7. Multiply a 5x3 numpy array by a 1x3 numpy array containing random integer values with some fixed seed. \n",
    "\n",
    "#### 7. Ստեղծեք 5x3 ու 1x3 չափանի numpy array-ներ որոնք պարունակում են պատահական integer տիպի արժեքներ ֆիքսված seed-ով։ Գտեք առաջին և երկրորդ  array-ների արտադրյալը։ "
   ]
  },
  {
   "cell_type": "code",
   "execution_count": 11,
   "metadata": {
    "id": "RaWTqOfAFnjy"
   },
   "outputs": [
    {
     "data": {
      "text/plain": [
       "array([[0.06869235, 0.28924745, 0.38411853],\n",
       "       [0.10979667, 0.04746746, 0.08185913],\n",
       "       [0.0106528 , 0.26352737, 0.31543897],\n",
       "       [0.1298637 , 0.00626267, 0.50896643],\n",
       "       [0.15267373, 0.06460253, 0.09541382]])"
      ]
     },
     "execution_count": 11,
     "metadata": {},
     "output_type": "execute_result"
    }
   ],
   "source": [
    "np.random.seed(42)\n",
    "n1 = np.random.rand(5, 3)\n",
    "n2 = np.random.rand(1, 3)\n",
    "n1 * n2"
   ]
  },
  {
   "cell_type": "markdown",
   "metadata": {
    "id": "Zc0j2oRgFnjz"
   },
   "source": [
    "#### 8. Write a program to sort an array of integers of shape 3x3 first along the columns, the along rows and finally flatten the array so that it becomes an one dimentional array of size 9 and sort the flattened array. \n",
    "\n",
    "#### 8. Գրեք ծրագիր որը կսորտավորի ձեր ցանկացած թվերով լցված 3x3 չափանի array-ը սկզբում ըստ սյուների, հետո ըստ տողերի, ապա flatten արեք array-ը դարձնելով այն 9 արժեք պարունակող 1 չափանի array ու սորտավորեք այն։ "
   ]
  },
  {
   "cell_type": "code",
   "execution_count": 13,
   "metadata": {
    "id": "9uEMqiOOFnjz"
   },
   "outputs": [
    {
     "name": "stdout",
     "output_type": "stream",
     "text": [
      "[[0.51423444 0.59241457 0.04645041]\n",
      " [0.60754485 0.17052412 0.06505159]\n",
      " [0.94888554 0.96563203 0.80839735]]\n",
      "[[0.51423444 0.17052412 0.04645041]\n",
      " [0.60754485 0.59241457 0.06505159]\n",
      " [0.94888554 0.96563203 0.80839735]]\n",
      "[[0.04645041 0.51423444 0.59241457]\n",
      " [0.06505159 0.17052412 0.60754485]\n",
      " [0.80839735 0.94888554 0.96563203]]\n",
      "[0.04645041 0.06505159 0.17052412 0.51423444 0.59241457 0.60754485\n",
      " 0.80839735 0.94888554 0.96563203]\n"
     ]
    }
   ],
   "source": [
    "a = np.random.rand(3, 3)\n",
    "print(a)\n",
    "print(np.sort(a, axis=0))\n",
    "print(np.sort(a, axis=1))\n",
    "print(np.sort(a.flatten()))"
   ]
  },
  {
   "cell_type": "markdown",
   "metadata": {
    "id": "05doiPGqFnj0"
   },
   "source": [
    "#### 9. Create a 7 x 7 numpy array of zeros and then \"frame\" it with a border of ones. Your result should look like this:\n",
    "\n",
    "#### 9. Ստեղծեք 7 x 7 չափանի, 0-ներով լցված numpy array։ Ավելացրեք numpy array-ին 1-երից բաղկացած “շրջանակ”։ Վերջնական արդյունքը պետք է ունենա հետևյալ տեսքը՝"
   ]
  },
  {
   "cell_type": "markdown",
   "metadata": {
    "id": "vgeJCHx0Fnj1"
   },
   "source": [
    "    ![image.png](attachment:image.png)"
   ]
  },
  {
   "cell_type": "code",
   "execution_count": 14,
   "metadata": {
    "id": "xdlKkTHGFnj2"
   },
   "outputs": [
    {
     "data": {
      "text/plain": [
       "array([[1., 1., 1., 1., 1., 1., 1.],\n",
       "       [1., 0., 0., 0., 0., 0., 1.],\n",
       "       [1., 0., 0., 0., 0., 0., 1.],\n",
       "       [1., 0., 0., 0., 0., 0., 1.],\n",
       "       [1., 0., 0., 0., 0., 0., 1.],\n",
       "       [1., 0., 0., 0., 0., 0., 1.],\n",
       "       [1., 1., 1., 1., 1., 1., 1.]])"
      ]
     },
     "execution_count": 14,
     "metadata": {},
     "output_type": "execute_result"
    }
   ],
   "source": [
    "a = np.zeros((7, 7))\n",
    "a[[0, 6], :] = 1\n",
    "a[:, [0, 6]] = 1\n",
    "a"
   ]
  },
  {
   "cell_type": "markdown",
   "metadata": {
    "id": "htnrmnjYFnj2"
   },
   "source": [
    "#### 10. Create the following numpy arrays and calculate the dot product between a and b. Transform the second array if needed.\n",
    "\n",
    "#### Ստեղծեք հետևյալ numpy array-ները ու հաշվեք a և b array-ների dot product-ը։ Transform արեք երկրորդ array-ը եթե կա դրա կարիքը։"
   ]
  },
  {
   "cell_type": "markdown",
   "metadata": {
    "id": "PpDjvG5zFnj2"
   },
   "source": [
    "$$a = \\begin{bmatrix} 1 & 3 \\\\ 3 & 13 \\\\ 0 & -1  \\end{bmatrix}$$\n",
    "\n",
    "$$b = \\begin{bmatrix} 1 & 1 \\\\ 2 & 1 \\\\ 3 & -3 \\end{bmatrix}$$"
   ]
  },
  {
   "cell_type": "code",
   "execution_count": 16,
   "metadata": {},
   "outputs": [
    {
     "data": {
      "text/plain": [
       "array([[  4,   5,  -6],\n",
       "       [ 16,  19, -30],\n",
       "       [ -1,  -1,   3]])"
      ]
     },
     "execution_count": 16,
     "metadata": {},
     "output_type": "execute_result"
    }
   ],
   "source": [
    "a = np.array([[1, 3], [3, 13], [0, -1]])\n",
    "b = np.array([[1, 1], [2, 1], [3, -3]])\n",
    "a @ b.T"
   ]
  },
  {
   "cell_type": "code",
   "execution_count": null,
   "metadata": {},
   "outputs": [],
   "source": []
  }
 ],
 "metadata": {
  "colab": {
   "name": "Numpy_Homework.ipynb",
   "provenance": []
  },
  "kernelspec": {
   "display_name": "Python 3 (ipykernel)",
   "language": "python",
   "name": "python3"
  },
  "language_info": {
   "codemirror_mode": {
    "name": "ipython",
    "version": 3
   },
   "file_extension": ".py",
   "mimetype": "text/x-python",
   "name": "python",
   "nbconvert_exporter": "python",
   "pygments_lexer": "ipython3",
   "version": "3.8.10"
  }
 },
 "nbformat": 4,
 "nbformat_minor": 1
}
